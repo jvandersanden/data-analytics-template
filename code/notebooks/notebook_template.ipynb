{
 "cells": [
  {
   "cell_type": "markdown",
   "id": "4c9309b0-7e0e-43f5-91c4-36f6b713e843",
   "metadata": {},
   "source": [
    "# Project Name"
   ]
  },
  {
   "cell_type": "markdown",
   "id": "ccaa27b2-5f22-4a29-9241-4f9fcca02f87",
   "metadata": {},
   "source": [
    "Author: Jacob Vander Sanden\n",
    "\n",
    "Last modified: ## 11-13-2024 (created: 11-13-2024)\n",
    "\n",
    "Description: short parapgraph explaining project"
   ]
  },
  {
   "cell_type": "markdown",
   "id": "4d055b46-ec82-4d3f-83ea-3ba39095f2cf",
   "metadata": {},
   "source": [
    "Import libraries: "
   ]
  },
  {
   "cell_type": "code",
   "execution_count": 4,
   "id": "530194fc-eb63-458e-ab71-91faebed1222",
   "metadata": {},
   "outputs": [],
   "source": [
    "import pandas as pd"
   ]
  },
  {
   "cell_type": "markdown",
   "id": "9b992424-4a85-438d-b9bb-0e29865d79bf",
   "metadata": {},
   "source": [
    "Load Data:"
   ]
  },
  {
   "cell_type": "markdown",
   "id": "2c0f5bb9-5e11-4bf6-a7de-5c4d2d1ca859",
   "metadata": {},
   "source": [
    "# Code to read file"
   ]
  }
 ],
 "metadata": {
  "kernelspec": {
   "display_name": "Python 3 (ipykernel)",
   "language": "python",
   "name": "python3"
  },
  "language_info": {
   "codemirror_mode": {
    "name": "ipython",
    "version": 3
   },
   "file_extension": ".py",
   "mimetype": "text/x-python",
   "name": "python",
   "nbconvert_exporter": "python",
   "pygments_lexer": "ipython3",
   "version": "3.12.3"
  }
 },
 "nbformat": 4,
 "nbformat_minor": 5
}
